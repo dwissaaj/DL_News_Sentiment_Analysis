{
 "cells": [
  {
   "cell_type": "code",
   "execution_count": 2,
   "metadata": {
    "collapsed": true
   },
   "outputs": [
    {
     "name": "stderr",
     "output_type": "stream",
     "text": [
      "2021-11-09 15:49:43.535651: W tensorflow/stream_executor/platform/default/dso_loader.cc:64] Could not load dynamic library 'libcudart.so.11.0'; dlerror: libcudart.so.11.0: cannot open shared object file: No such file or directory\n",
      "2021-11-09 15:49:43.535693: I tensorflow/stream_executor/cuda/cudart_stub.cc:29] Ignore above cudart dlerror if you do not have a GPU set up on your machine.\n"
     ]
    }
   ],
   "source": [
    "import pandas\n",
    "import pandas as pd\n",
    "import tensorflow"
   ]
  },
  {
   "cell_type": "code",
   "execution_count": 4,
   "outputs": [
    {
     "data": {
      "text/plain": "                                               berita sentimen\n0   O-Ranger Mawar adalah terobosan terbaru untuk ...  positif\n1   ILUSTRASI. Dirut PT Pos Finansial Indonesia (P...  positif\n2   Logo PT Pos Indonesia\\n \\n TRIBUNNEWS.COM - PT...  positif\n3   Liputan6.com, Jakarta Faizal Rachmad Djoemadi ...  positif\n4   Saat ini Pos Indonesia menyediakan pelayanan s...  positif\n..                                                ...      ...\n76  MATA INDONESIA, JAKARTA-Penyanyi senior Krisda...        2\n77  SOLO – Kantor Pelayanan Pajak (KPP) Pratama Su...        2\n78  Perajin Usaha Mikro, Kecil dan Menengah (UMKM)...        3\n79  Munculnya pandemi Covid-19 di Indonesia mempen...        2\n80  Laporan reporter POS-KUPANG.COM, Irfan Hoi\\n\\n...        3\n\n[81 rows x 2 columns]",
      "text/html": "<div>\n<style scoped>\n    .dataframe tbody tr th:only-of-type {\n        vertical-align: middle;\n    }\n\n    .dataframe tbody tr th {\n        vertical-align: top;\n    }\n\n    .dataframe thead th {\n        text-align: right;\n    }\n</style>\n<table border=\"1\" class=\"dataframe\">\n  <thead>\n    <tr style=\"text-align: right;\">\n      <th></th>\n      <th>berita</th>\n      <th>sentimen</th>\n    </tr>\n  </thead>\n  <tbody>\n    <tr>\n      <th>0</th>\n      <td>O-Ranger Mawar adalah terobosan terbaru untuk ...</td>\n      <td>positif</td>\n    </tr>\n    <tr>\n      <th>1</th>\n      <td>ILUSTRASI. Dirut PT Pos Finansial Indonesia (P...</td>\n      <td>positif</td>\n    </tr>\n    <tr>\n      <th>2</th>\n      <td>Logo PT Pos Indonesia\\n \\n TRIBUNNEWS.COM - PT...</td>\n      <td>positif</td>\n    </tr>\n    <tr>\n      <th>3</th>\n      <td>Liputan6.com, Jakarta Faizal Rachmad Djoemadi ...</td>\n      <td>positif</td>\n    </tr>\n    <tr>\n      <th>4</th>\n      <td>Saat ini Pos Indonesia menyediakan pelayanan s...</td>\n      <td>positif</td>\n    </tr>\n    <tr>\n      <th>...</th>\n      <td>...</td>\n      <td>...</td>\n    </tr>\n    <tr>\n      <th>76</th>\n      <td>MATA INDONESIA, JAKARTA-Penyanyi senior Krisda...</td>\n      <td>2</td>\n    </tr>\n    <tr>\n      <th>77</th>\n      <td>SOLO – Kantor Pelayanan Pajak (KPP) Pratama Su...</td>\n      <td>2</td>\n    </tr>\n    <tr>\n      <th>78</th>\n      <td>Perajin Usaha Mikro, Kecil dan Menengah (UMKM)...</td>\n      <td>3</td>\n    </tr>\n    <tr>\n      <th>79</th>\n      <td>Munculnya pandemi Covid-19 di Indonesia mempen...</td>\n      <td>2</td>\n    </tr>\n    <tr>\n      <th>80</th>\n      <td>Laporan reporter POS-KUPANG.COM, Irfan Hoi\\n\\n...</td>\n      <td>3</td>\n    </tr>\n  </tbody>\n</table>\n<p>81 rows × 2 columns</p>\n</div>"
     },
     "execution_count": 4,
     "metadata": {},
     "output_type": "execute_result"
    }
   ],
   "source": [
    "df = pd.read_excel(\"data train.xlsx\")\n",
    "df"
   ],
   "metadata": {
    "collapsed": false,
    "pycharm": {
     "name": "#%%\n"
    }
   }
  }
 ],
 "metadata": {
  "kernelspec": {
   "display_name": "Python 3",
   "language": "python",
   "name": "python3"
  },
  "language_info": {
   "codemirror_mode": {
    "name": "ipython",
    "version": 2
   },
   "file_extension": ".py",
   "mimetype": "text/x-python",
   "name": "python",
   "nbconvert_exporter": "python",
   "pygments_lexer": "ipython2",
   "version": "2.7.6"
  }
 },
 "nbformat": 4,
 "nbformat_minor": 0
}